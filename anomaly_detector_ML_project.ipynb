{
  "nbformat": 4,
  "nbformat_minor": 0,
  "metadata": {
    "colab": {
      "name": "anomaly_detector_ML_project.ipynb",
      "provenance": [],
      "collapsed_sections": []
    },
    "kernelspec": {
      "name": "python3",
      "display_name": "Python 3"
    },
    "language_info": {
      "name": "python"
    }
  },
  "cells": [
    {
      "cell_type": "code",
      "source": [
        "# Project by Ayush Agarwal \n",
        "# PROJECT - PREDICTIVE MAINTAINENCE ANOMALY PREDICTION \n",
        "# IIT BHU Varanasi , Electronics Engineering Student \n",
        "# ayush.agarwal.ece20@itbhu.ac.in\n",
        "# https://www.linkedin.com/in/ayush-agarwal-261041215/\n",
        "# https://github.com/ayush-agarwal-0502"
      ],
      "metadata": {
        "id": "zvTPdwsFz7_X"
      },
      "execution_count": 125,
      "outputs": []
    },
    {
      "cell_type": "code",
      "execution_count": 126,
      "metadata": {
        "id": "8jHu8geimBPU"
      },
      "outputs": [],
      "source": [
        "import pandas as pd \n",
        "import numpy as np \n",
        "import matplotlib.pyplot as plt \n",
        "import seaborn as sns"
      ]
    },
    {
      "cell_type": "code",
      "source": [
        "X = pd.read_csv(\"/content/predictive_maintenance.csv\")"
      ],
      "metadata": {
        "id": "YWkZdBakmSJi"
      },
      "execution_count": 127,
      "outputs": []
    },
    {
      "cell_type": "code",
      "source": [
        "print(\"The data looks like :\")\n",
        "print(X.head())\n",
        "print(X.columns)\n",
        "print(len(X.columns))"
      ],
      "metadata": {
        "id": "GhMW478rmWl1",
        "colab": {
          "base_uri": "https://localhost:8080/"
        },
        "outputId": "1a659a9b-4c9f-4094-a892-8217987942f8"
      },
      "execution_count": 128,
      "outputs": [
        {
          "output_type": "stream",
          "name": "stdout",
          "text": [
            "The data looks like :\n",
            "   UDI Product ID Type  Air temperature [K]  Process temperature [K]  \\\n",
            "0    1     M14860    M                298.1                    308.6   \n",
            "1    2     L47181    L                298.2                    308.7   \n",
            "2    3     L47182    L                298.1                    308.5   \n",
            "3    4     L47183    L                298.2                    308.6   \n",
            "4    5     L47184    L                298.2                    308.7   \n",
            "\n",
            "   Rotational speed [rpm]  Torque [Nm]  Tool wear [min]  Target Failure Type  \n",
            "0                    1551         42.8                0       0   No Failure  \n",
            "1                    1408         46.3                3       0   No Failure  \n",
            "2                    1498         49.4                5       0   No Failure  \n",
            "3                    1433         39.5                7       0   No Failure  \n",
            "4                    1408         40.0                9       0   No Failure  \n",
            "Index(['UDI', 'Product ID', 'Type', 'Air temperature [K]',\n",
            "       'Process temperature [K]', 'Rotational speed [rpm]', 'Torque [Nm]',\n",
            "       'Tool wear [min]', 'Target', 'Failure Type'],\n",
            "      dtype='object')\n",
            "10\n"
          ]
        }
      ]
    },
    {
      "cell_type": "code",
      "source": [
        "print(X['Failure Type'].value_counts())\n",
        "print(len(X))"
      ],
      "metadata": {
        "colab": {
          "base_uri": "https://localhost:8080/"
        },
        "id": "jdD1kuzunn3S",
        "outputId": "dd24c07a-be14-4250-baf4-51cad12a1b09"
      },
      "execution_count": 129,
      "outputs": [
        {
          "output_type": "stream",
          "name": "stdout",
          "text": [
            "No Failure                  9652\n",
            "Heat Dissipation Failure     112\n",
            "Power Failure                 95\n",
            "Overstrain Failure            78\n",
            "Tool Wear Failure             45\n",
            "Random Failures               18\n",
            "Name: Failure Type, dtype: int64\n",
            "10000\n"
          ]
        }
      ]
    },
    {
      "cell_type": "code",
      "source": [
        "from sklearn.preprocessing import OrdinalEncoder\n",
        "ordinal_encoder = OrdinalEncoder()\n",
        "print(X.columns)\n",
        "\n",
        "\n",
        "ordinal_cols = ['Type']\n",
        "X_ordinal = X[ordinal_cols]\n",
        "X_ordinal = ordinal_encoder.fit_transform(X_ordinal)\n",
        "X_ordinal = pd.DataFrame(X_ordinal, columns = ordinal_cols)\n",
        "print(X_ordinal.head())\n",
        "X.drop(ordinal_cols,axis=1,inplace=True)\n",
        "\n",
        "X[ordinal_cols] = X_ordinal[ordinal_cols]\n",
        "print(X.head())"
      ],
      "metadata": {
        "colab": {
          "base_uri": "https://localhost:8080/"
        },
        "id": "zeigdmw3oUIZ",
        "outputId": "c7ab7a89-c2df-43c4-b0d9-3b55c0265e9f"
      },
      "execution_count": 130,
      "outputs": [
        {
          "output_type": "stream",
          "name": "stdout",
          "text": [
            "Index(['UDI', 'Product ID', 'Type', 'Air temperature [K]',\n",
            "       'Process temperature [K]', 'Rotational speed [rpm]', 'Torque [Nm]',\n",
            "       'Tool wear [min]', 'Target', 'Failure Type'],\n",
            "      dtype='object')\n",
            "   Type\n",
            "0   2.0\n",
            "1   1.0\n",
            "2   1.0\n",
            "3   1.0\n",
            "4   1.0\n",
            "   UDI Product ID  Air temperature [K]  Process temperature [K]  \\\n",
            "0    1     M14860                298.1                    308.6   \n",
            "1    2     L47181                298.2                    308.7   \n",
            "2    3     L47182                298.1                    308.5   \n",
            "3    4     L47183                298.2                    308.6   \n",
            "4    5     L47184                298.2                    308.7   \n",
            "\n",
            "   Rotational speed [rpm]  Torque [Nm]  Tool wear [min]  Target Failure Type  \\\n",
            "0                    1551         42.8                0       0   No Failure   \n",
            "1                    1408         46.3                3       0   No Failure   \n",
            "2                    1498         49.4                5       0   No Failure   \n",
            "3                    1433         39.5                7       0   No Failure   \n",
            "4                    1408         40.0                9       0   No Failure   \n",
            "\n",
            "   Type  \n",
            "0   2.0  \n",
            "1   1.0  \n",
            "2   1.0  \n",
            "3   1.0  \n",
            "4   1.0  \n"
          ]
        }
      ]
    },
    {
      "cell_type": "code",
      "source": [
        "X.drop(['UDI','Product ID','Failure Type'],axis=1,inplace=True)"
      ],
      "metadata": {
        "id": "5anM7Crdmn0x"
      },
      "execution_count": 131,
      "outputs": []
    },
    {
      "cell_type": "code",
      "source": [
        "y = X['Target']\n",
        "X.drop(['Target'],axis=1,inplace=True)\n",
        "print(X.head())\n",
        "print(y.head())"
      ],
      "metadata": {
        "colab": {
          "base_uri": "https://localhost:8080/"
        },
        "id": "koDmsZEoo4T1",
        "outputId": "4131a4c2-3415-4695-a993-0198fe075a31"
      },
      "execution_count": 132,
      "outputs": [
        {
          "output_type": "stream",
          "name": "stdout",
          "text": [
            "   Air temperature [K]  Process temperature [K]  Rotational speed [rpm]  \\\n",
            "0                298.1                    308.6                    1551   \n",
            "1                298.2                    308.7                    1408   \n",
            "2                298.1                    308.5                    1498   \n",
            "3                298.2                    308.6                    1433   \n",
            "4                298.2                    308.7                    1408   \n",
            "\n",
            "   Torque [Nm]  Tool wear [min]  Type  \n",
            "0         42.8                0   2.0  \n",
            "1         46.3                3   1.0  \n",
            "2         49.4                5   1.0  \n",
            "3         39.5                7   1.0  \n",
            "4         40.0                9   1.0  \n",
            "0    0\n",
            "1    0\n",
            "2    0\n",
            "3    0\n",
            "4    0\n",
            "Name: Target, dtype: int64\n"
          ]
        }
      ]
    },
    {
      "cell_type": "code",
      "source": [
        "# scaling X here \n",
        "#Importing the ROBUST SCALER\n",
        "from sklearn.preprocessing import RobustScaler\n",
        "print(X.head())\n",
        "# Using the robust scaler \n",
        "robust_scaler_1 = RobustScaler()\n",
        "X = robust_scaler_1.fit_transform(X)\n",
        "X = pd.DataFrame(X)\n",
        "\n",
        "#After scaling data be like \n",
        "print(X.head())"
      ],
      "metadata": {
        "colab": {
          "base_uri": "https://localhost:8080/"
        },
        "id": "lmZuICtQpEeM",
        "outputId": "9c49d714-f232-4a23-d47d-00945b2021a6"
      },
      "execution_count": 133,
      "outputs": [
        {
          "output_type": "stream",
          "name": "stdout",
          "text": [
            "   Air temperature [K]  Process temperature [K]  Rotational speed [rpm]  \\\n",
            "0                298.1                    308.6                    1551   \n",
            "1                298.2                    308.7                    1408   \n",
            "2                298.1                    308.5                    1498   \n",
            "3                298.2                    308.6                    1433   \n",
            "4                298.2                    308.7                    1408   \n",
            "\n",
            "   Torque [Nm]  Tool wear [min]  Type  \n",
            "0         42.8                0   2.0  \n",
            "1         46.3                3   1.0  \n",
            "2         49.4                5   1.0  \n",
            "3         39.5                7   1.0  \n",
            "4         40.0                9   1.0  \n",
            "         0         1         2         3         4    5\n",
            "0 -0.62500 -0.652174  0.253968  0.198529 -0.990826  1.0\n",
            "1 -0.59375 -0.608696 -0.502646  0.455882 -0.963303  0.0\n",
            "2 -0.62500 -0.695652 -0.026455  0.683824 -0.944954  0.0\n",
            "3 -0.59375 -0.652174 -0.370370 -0.044118 -0.926606  0.0\n",
            "4 -0.59375 -0.608696 -0.502646 -0.007353 -0.908257  0.0\n"
          ]
        }
      ]
    },
    {
      "cell_type": "code",
      "source": [
        "from sklearn.model_selection import train_test_split\n",
        "X_train, X_test, y_train, y_test = train_test_split(X, y, train_size=0.8, test_size=0.2,\n",
        "                                                      random_state=0)"
      ],
      "metadata": {
        "id": "a0mlJ4JnpDtQ"
      },
      "execution_count": 134,
      "outputs": []
    },
    {
      "cell_type": "code",
      "source": [
        "X_train['Target'] = y_train \n",
        "\n",
        "X_train_non_anomaly = X_train.loc[X_train['Target']==0]\n",
        "X_train_anomaly = X_train.loc[X_train['Target']==1]\n",
        "\n",
        "X_train.drop(['Target'],axis=1,inplace=True)\n",
        "X_train_non_anomaly.drop(['Target'],axis=1,inplace=True)\n",
        "X_train_anomaly.drop(['Target'],axis=1,inplace=True)\n",
        "\n",
        "print(X_train_non_anomaly)"
      ],
      "metadata": {
        "colab": {
          "base_uri": "https://localhost:8080/"
        },
        "id": "x5vMHYFBsfAR",
        "outputId": "030b8953-8258-46d7-d038-d017ba90ad3f"
      },
      "execution_count": 135,
      "outputs": [
        {
          "output_type": "stream",
          "name": "stdout",
          "text": [
            "            0         1         2         3         4    5\n",
            "7389 -0.09375  0.217391  1.079365 -0.558824  0.146789  0.0\n",
            "9275 -0.59375 -0.608696  0.539683 -0.786765 -0.559633  0.0\n",
            "2995  0.12500 -0.130435  0.248677 -0.198529  0.366972  0.0\n",
            "5316  1.09375  1.173913  0.984127 -0.514706 -0.844037  1.0\n",
            "356  -0.78125 -0.739130 -0.555556  0.647059 -0.412844  1.0\n",
            "...       ...       ...       ...       ...       ...  ...\n",
            "9225 -0.65625 -0.434783  1.677249 -1.213235  0.110092  0.0\n",
            "4859  1.12500  1.000000  0.169312 -0.110294 -0.009174  0.0\n",
            "3264  0.37500  0.000000 -0.253968  0.294118  0.733945 -1.0\n",
            "9845 -0.56250 -0.434783 -0.433862  0.536765 -0.688073  0.0\n",
            "2732 -0.12500 -0.391304 -0.830688  1.272059  0.275229  0.0\n",
            "\n",
            "[7736 rows x 6 columns]\n"
          ]
        },
        {
          "output_type": "stream",
          "name": "stderr",
          "text": [
            "/usr/local/lib/python3.7/dist-packages/pandas/core/frame.py:4913: SettingWithCopyWarning: \n",
            "A value is trying to be set on a copy of a slice from a DataFrame\n",
            "\n",
            "See the caveats in the documentation: https://pandas.pydata.org/pandas-docs/stable/user_guide/indexing.html#returning-a-view-versus-a-copy\n",
            "  errors=errors,\n"
          ]
        }
      ]
    },
    {
      "cell_type": "code",
      "source": [
        "model_mean = np.mean(X_train_non_anomaly, axis=0)\n",
        "model_cov = np.cov(X_train_non_anomaly, rowvar=0)\n",
        "print(model_mean)\n",
        "print(model_cov)\n",
        "# model_mean_anomaly = np.mean(X_train_anomaly, axis=0)\n",
        "# model_cov_anomaly = np.cov(X_train_anomaly, rowvar=0)\n",
        "# print(model_mean_anomaly)\n",
        "# print(model_cov_anomaly)"
      ],
      "metadata": {
        "colab": {
          "base_uri": "https://localhost:8080/"
        },
        "id": "Rexzs25Hpd-o",
        "outputId": "79bed578-2ac4-4222-ad6e-840706f8a1e5"
      },
      "execution_count": 136,
      "outputs": [
        {
          "output_type": "stream",
          "name": "stdout",
          "text": [
            "0   -0.044068\n",
            "1   -0.050228\n",
            "2    0.196877\n",
            "3   -0.035302\n",
            "4   -0.018685\n",
            "5    0.201396\n",
            "dtype: float64\n",
            "[[ 0.39112389  0.35830612  0.01782564 -0.01225468  0.00502206  0.00695309]\n",
            " [ 0.35830612  0.42348947  0.01420997 -0.00951814  0.00531966  0.00553597]\n",
            " [ 0.01782564  0.01420997  0.78474163 -0.54727231  0.00797626 -0.0026121 ]\n",
            " [-0.01225468 -0.00951814 -0.54727231  0.48442063 -0.00924472  0.00189366]\n",
            " [ 0.00502206  0.00531966  0.00797626 -0.00924472  0.33473396  0.00455359]\n",
            " [ 0.00695309  0.00553597 -0.0026121   0.00189366  0.00455359  0.36460568]]\n"
          ]
        }
      ]
    },
    {
      "cell_type": "code",
      "source": [
        "from scipy.stats import multivariate_normal\n",
        "\n",
        "preds_x_non_anomaly = multivariate_normal.pdf(X_train_non_anomaly, mean=model_mean, cov=model_cov*5)# - multivariate_normal.pdf(X_train_non_anomaly, mean=model_mean_anomaly, cov=model_cov_anomaly*5)\n",
        "preds_x_anomaly = multivariate_normal.pdf(X_train_anomaly, mean=model_mean, cov=model_cov*5) #- multivariate_normal.pdf(X_train_anomaly, mean=model_mean_anomaly, cov=model_cov_anomaly*5)\n",
        "\n",
        "# X_train_anomaly\n",
        "# print(preds_x_non_anomaly)\n",
        "# print(\"-------------------\")\n",
        "# print(preds_x_anomaly)\n",
        "# print(\"------------\")\n",
        "\n",
        "sns.kdeplot(data=preds_x_non_anomaly, shade=True)\n",
        "plt.show()\n",
        "sns.kdeplot(data=preds_x_anomaly, shade=True)\n",
        "plt.show()\n",
        "sns.kdeplot(data=preds_x_non_anomaly, shade=True)\n",
        "sns.kdeplot(data=preds_x_anomaly, shade=True)\n",
        "plt.show()\n",
        "\n",
        "# sns.scatterplot(x=preds_x_non_anomaly, y=(preds_x_non_anomaly<100))\n",
        "# sns.scatterplot(x=preds_x_anomaly, y=(preds_x_anomaly<100))\n",
        "# plt.show()\n",
        "\n",
        "# sns.scatterplot(x=preds_x_anomaly, y=(preds_x_anomaly<100))\n",
        "# sns.scatterplot(x=preds_x_non_anomaly, y=(preds_x_non_anomaly<100))\n",
        "# plt.show()"
      ],
      "metadata": {
        "colab": {
          "base_uri": "https://localhost:8080/",
          "height": 761
        },
        "id": "5iYti8fip6y-",
        "outputId": "18bdb71f-b55f-47c2-bff8-49c85903763d"
      },
      "execution_count": 143,
      "outputs": [
        {
          "output_type": "display_data",
          "data": {
            "text/plain": [
              "<Figure size 432x288 with 1 Axes>"
            ],
            "image/png": "[encoded data removed]"
          },
          "metadata": {
            "needs_background": "light"
          }
        },
        {
          "output_type": "display_data",
          "data": {
            "text/plain": [
              "<Figure size 432x288 with 1 Axes>"
            ],
            "image/png": "[encoded data removed]"
          },
          "metadata": {
            "needs_background": "light"
          }
        },
        {
          "output_type": "display_data",
          "data": {
            "text/plain": [
              "<Figure size 432x288 with 1 Axes>"
            ],
            "image/png": "[encoded data removed]"
          },
          "metadata": {
            "needs_background": "light"
          }
        }
      ]
    },
    {
      "cell_type": "code",
      "source": [
        "# threshold = 0.001\n",
        "# threshold2 = 0.004\n",
        "threshold_3 = 0.0008\n",
        "preds_x_train = multivariate_normal.pdf(X_train, mean=model_mean, cov=model_cov*5)<threshold_3\n",
        "preds_x_test = multivariate_normal.pdf(X_test, mean=model_mean, cov=model_cov*5)<threshold_3"
      ],
      "metadata": {
        "id": "pBJM2yK8ykve"
      },
      "execution_count": 144,
      "outputs": []
    },
    {
      "cell_type": "code",
      "source": [
        "from sklearn.metrics import confusion_matrix\n",
        "\n",
        "conf_matrix_test = confusion_matrix(y_true=y_train, y_pred=preds_x_train)\n",
        "\n",
        "print(\"Train result confusion matrix is :\")\n",
        "print(conf_matrix_test)\n",
        "\n",
        "precision_test = ((conf_matrix_test[0][0])/(conf_matrix_test[0][1]+conf_matrix_test[0][0]))\n",
        "print(\"Precision :\"+str(precision_test))\n",
        "\n",
        "recall_test = ((conf_matrix_test[0][0])/(conf_matrix_test[1][0]+conf_matrix_test[0][0]))\n",
        "print(\"Recall :\"+str(recall_test))\n",
        "\n",
        "beta = 1\n",
        "f1_score_test = ((1+(beta**2))/ ( (1/precision_test) + (beta**2/recall_test) ))\n",
        "print(\"f1_score_test : \"+str(f1_score_test))\n"
      ],
      "metadata": {
        "colab": {
          "base_uri": "https://localhost:8080/"
        },
        "id": "k-foWNF4aBRc",
        "outputId": "591b06ca-24ba-4cd3-9e12-e105c4fdb839"
      },
      "execution_count": 145,
      "outputs": [
        {
          "output_type": "stream",
          "name": "stdout",
          "text": [
            "Train result confusion matrix is :\n",
            "[[5922 1814]\n",
            " [  65  199]]\n",
            "Precision :0.765511892450879\n",
            "Recall :0.9891431434775346\n",
            "f1_score_test : 0.8630765867521678\n"
          ]
        }
      ]
    },
    {
      "cell_type": "code",
      "source": [
        "# Project by Ayush Agarwal \n",
        "# PROJECT - PREDICTIVE MAINTAINENCE ANOMALY PREDICTION \n",
        "# IIT BHU Varanasi , Electronics Engineering Student \n",
        "# ayush.agarwal.ece20@itbhu.ac.in\n",
        "# https://www.linkedin.com/in/ayush-agarwal-261041215/\n",
        "# https://github.com/ayush-agarwal-0502"
      ],
      "metadata": {
        "id": "FwNSyqch0FCH"
      },
      "execution_count": 146,
      "outputs": []
    }
  ]
}